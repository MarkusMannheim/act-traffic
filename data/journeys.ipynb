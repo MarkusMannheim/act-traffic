{
 "cells": [
  {
   "cell_type": "code",
   "execution_count": 99,
   "id": "bright-wrong",
   "metadata": {},
   "outputs": [],
   "source": [
    "import pandas as pd\n",
    "\n",
    "data = pd.read_csv(\"./Daily_Public_Transport_Passenger_Journeys_by_Service_Type.csv\", parse_dates=[\"date\"])\n",
    "data = data[(data.date > pd.to_datetime(\"2019-06-30\")) & (data.date < pd.to_datetime(\"2021-06-01\"))]\n",
    "data.sort_values(\"date\", inplace=True)\n",
    "data.other = data.peak + data.other\n",
    "data = data[[\"date\", \"local\", \"school\", \"light rail\", \"Rapid\", \"other\"]]\n",
    "data[\"month\"] = data.date.apply(lambda x: f\"{x.year}-{str(x.month).zfill(2)}-01\")\n",
    "data = data.groupby(\"month\").sum().reset_index()\n",
    "data = data[[\"month\"] + list(data[data.columns[1:]].sum().sort_values(ascending=False).index)]\n",
    "data.to_csv(\"./journeys.csv\", index=False)"
   ]
  },
  {
   "cell_type": "code",
   "execution_count": null,
   "id": "latin-exemption",
   "metadata": {},
   "outputs": [],
   "source": []
  }
 ],
 "metadata": {
  "kernelspec": {
   "display_name": "Python 3",
   "language": "python",
   "name": "python3"
  },
  "language_info": {
   "codemirror_mode": {
    "name": "ipython",
    "version": 3
   },
   "file_extension": ".py",
   "mimetype": "text/x-python",
   "name": "python",
   "nbconvert_exporter": "python",
   "pygments_lexer": "ipython3",
   "version": "3.9.2"
  }
 },
 "nbformat": 4,
 "nbformat_minor": 5
}
